{
 "cells": [
  {
   "cell_type": "markdown",
   "metadata": {},
   "source": [
    "##### TABULIZATION  #####  - Finding the factorial of a number. "
   ]
  },
  {
   "cell_type": "code",
   "execution_count": null,
   "metadata": {},
   "outputs": [],
   "source": [
    "def tabulization(nums):\n",
    "    dp = [None]*nums\n",
    "    dp[0] = 1\n",
    "    for i in range(1,nums):\n",
    "        dp[i] = dp[i-1] * (i)\n",
    "\n",
    "    return dp[nums-1]\n",
    "   "
   ]
  },
  {
   "cell_type": "code",
   "execution_count": null,
   "metadata": {},
   "outputs": [],
   "source": [
    "tabulization(100000)"
   ]
  },
  {
   "cell_type": "code",
   "execution_count": null,
   "metadata": {},
   "outputs": [],
   "source": [
    "%timeit tabulization(100000)"
   ]
  },
  {
   "cell_type": "markdown",
   "metadata": {},
   "source": [
    "#### RECURSION ####"
   ]
  },
  {
   "cell_type": "code",
   "execution_count": null,
   "metadata": {},
   "outputs": [],
   "source": [
    "def recursion(nums):\n",
    "    \n",
    "    if nums == 0:\n",
    "        return 1\n",
    "    elif nums == 1:\n",
    "        return 1\n",
    "    else:\n",
    "        return nums * recursion(nums-1)"
   ]
  },
  {
   "cell_type": "code",
   "execution_count": null,
   "metadata": {},
   "outputs": [],
   "source": [
    "recursion(1000)"
   ]
  },
  {
   "cell_type": "code",
   "execution_count": null,
   "metadata": {},
   "outputs": [],
   "source": [
    "%timeit recursion(1000)"
   ]
  },
  {
   "cell_type": "markdown",
   "metadata": {},
   "source": [
    "#### Fibonacii ####  "
   ]
  },
  {
   "cell_type": "markdown",
   "metadata": {},
   "source": [
    "#### Recursion ####   "
   ]
  },
  {
   "cell_type": "code",
   "execution_count": 1,
   "metadata": {},
   "outputs": [],
   "source": [
    "\n",
    "def fib(nums):\n",
    "    \n",
    "    if nums == 0:\n",
    "        return 0\n",
    "    elif nums == 1:\n",
    "        return 1\n",
    "    else:\n",
    "        return (fib(nums-1) + fib(nums-2))"
   ]
  },
  {
   "cell_type": "code",
   "execution_count": 2,
   "metadata": {},
   "outputs": [
    {
     "data": {
      "text/plain": [
       "24157817"
      ]
     },
     "execution_count": 2,
     "metadata": {},
     "output_type": "execute_result"
    }
   ],
   "source": [
    "fib(37)"
   ]
  },
  {
   "cell_type": "code",
   "execution_count": 3,
   "metadata": {},
   "outputs": [
    {
     "name": "stdout",
     "output_type": "stream",
     "text": [
      "9 s ± 174 ms per loop (mean ± std. dev. of 7 runs, 1 loop each)\n"
     ]
    }
   ],
   "source": [
    "%timeit fib(37)"
   ]
  },
  {
   "cell_type": "markdown",
   "metadata": {},
   "source": [
    "#### MEMOIZATION ####   "
   ]
  },
  {
   "cell_type": "code",
   "execution_count": 9,
   "metadata": {},
   "outputs": [],
   "source": [
    "def cache(nums):\n",
    "    \n",
    "    table = dict()\n",
    "    for i in range(nums+1):\n",
    "        table[i] = None\n",
    "\n",
    "    def memfib(nums):\n",
    "        \n",
    "        if nums is 0 or nums is 1:\n",
    "            table[nums] = nums\n",
    "            \n",
    "        if table[nums] is None:\n",
    "            table[nums] = memfib(nums-1) + memfib(nums-2)\n",
    "        \n",
    "        print(table)\n",
    "        return table[nums]\n",
    "\n",
    "        \n",
    "    return (memfib(nums))\n",
    "\n"
   ]
  },
  {
   "cell_type": "code",
   "execution_count": 10,
   "metadata": {},
   "outputs": [
    {
     "name": "stdout",
     "output_type": "stream",
     "text": [
      "{0: None, 1: 1, 2: None, 3: None, 4: None, 5: None, 6: None, 7: None}\n",
      "{0: 0, 1: 1, 2: None, 3: None, 4: None, 5: None, 6: None, 7: None}\n",
      "{0: 0, 1: 1, 2: 1, 3: None, 4: None, 5: None, 6: None, 7: None}\n",
      "{0: 0, 1: 1, 2: 1, 3: None, 4: None, 5: None, 6: None, 7: None}\n",
      "{0: 0, 1: 1, 2: 1, 3: 2, 4: None, 5: None, 6: None, 7: None}\n",
      "{0: 0, 1: 1, 2: 1, 3: 2, 4: None, 5: None, 6: None, 7: None}\n",
      "{0: 0, 1: 1, 2: 1, 3: 2, 4: 3, 5: None, 6: None, 7: None}\n",
      "{0: 0, 1: 1, 2: 1, 3: 2, 4: 3, 5: None, 6: None, 7: None}\n",
      "{0: 0, 1: 1, 2: 1, 3: 2, 4: 3, 5: 5, 6: None, 7: None}\n",
      "{0: 0, 1: 1, 2: 1, 3: 2, 4: 3, 5: 5, 6: None, 7: None}\n",
      "{0: 0, 1: 1, 2: 1, 3: 2, 4: 3, 5: 5, 6: 8, 7: None}\n",
      "{0: 0, 1: 1, 2: 1, 3: 2, 4: 3, 5: 5, 6: 8, 7: None}\n",
      "{0: 0, 1: 1, 2: 1, 3: 2, 4: 3, 5: 5, 6: 8, 7: 13}\n"
     ]
    },
    {
     "data": {
      "text/plain": [
       "13"
      ]
     },
     "execution_count": 10,
     "metadata": {},
     "output_type": "execute_result"
    }
   ],
   "source": [
    "cache(7)"
   ]
  },
  {
   "cell_type": "code",
   "execution_count": 6,
   "metadata": {},
   "outputs": [
    {
     "name": "stdout",
     "output_type": "stream",
     "text": [
      "16.1 µs ± 195 ns per loop (mean ± std. dev. of 7 runs, 100000 loops each)\n"
     ]
    }
   ],
   "source": [
    "%timeit cache(37)"
   ]
  },
  {
   "cell_type": "markdown",
   "metadata": {},
   "source": [
    "TABULIZATION"
   ]
  },
  {
   "cell_type": "code",
   "execution_count": 7,
   "metadata": {},
   "outputs": [],
   "source": [
    "def fibnocii(nums):\n",
    "    table = dict()\n",
    "    for i in range(nums+1):\n",
    "        table[i] = None\n",
    "        \n",
    "    for i in range(nums+1):\n",
    "        if i == 0 or i == 1:\n",
    "            table[i] = i\n",
    "        else:\n",
    "            table[i] = table[i-1] + table[i-2]\n",
    "    return table[nums]"
   ]
  },
  {
   "cell_type": "code",
   "execution_count": 8,
   "metadata": {},
   "outputs": [
    {
     "data": {
      "text/plain": [
       "8"
      ]
     },
     "execution_count": 8,
     "metadata": {},
     "output_type": "execute_result"
    }
   ],
   "source": [
    "fibnocii(6)"
   ]
  },
  {
   "cell_type": "code",
   "execution_count": 9,
   "metadata": {},
   "outputs": [
    {
     "name": "stdout",
     "output_type": "stream",
     "text": [
      "7.84 µs ± 108 ns per loop (mean ± std. dev. of 7 runs, 100000 loops each)\n"
     ]
    }
   ],
   "source": [
    "%timeit fibnocii(37)"
   ]
  },
  {
   "cell_type": "code",
   "execution_count": null,
   "metadata": {},
   "outputs": [],
   "source": []
  }
 ],
 "metadata": {
  "kernelspec": {
   "display_name": "Python 3",
   "language": "python",
   "name": "python3"
  },
  "language_info": {
   "codemirror_mode": {
    "name": "ipython",
    "version": 3
   },
   "file_extension": ".py",
   "mimetype": "text/x-python",
   "name": "python",
   "nbconvert_exporter": "python",
   "pygments_lexer": "ipython3",
   "version": "3.7.4"
  }
 },
 "nbformat": 4,
 "nbformat_minor": 2
}